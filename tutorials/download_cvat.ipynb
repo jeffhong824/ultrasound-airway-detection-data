{
 "cells": [
  {
   "cell_type": "markdown",
   "metadata": {},
   "source": [
    "## CVAT 檔案下載\n",
    "- 請先至 Google 表單手動下載[標註工作分配](https://docs.google.com/spreadsheets/d/108W2SbwEj4654nnM5G7KbMiW0pKutBXfLbV2Dxsb3jo/edit?gid=1594279948#gid=1594279948)\n",
    "- 並將檔案放置 annotation 資料夾，建議將檔案加上日期後綴"
   ]
  },
  {
   "cell_type": "code",
   "execution_count": null,
   "metadata": {},
   "outputs": [],
   "source": [
    "credential = \"jeffhong824@gmail.com\"\n",
    "password = \"Jeff840606\"\n",
    "process_type = \"yolo\"\n",
    "# process_type = \"cvat_for_video\"\n",
    "target_dir = f\"../dataset/{process_type}_type/project\"\n",
    "# 若資料夾不存在請自行創立\n",
    "save_img = False\n",
    "headless = False"
   ]
  },
  {
   "cell_type": "code",
   "execution_count": 22,
   "metadata": {},
   "outputs": [],
   "source": [
    "from time import sleep\n",
    "from tqdm import tqdm\n",
    "import time\n",
    "import shutil\n",
    "\n",
    "from selenium.webdriver.chrome.options import Options\n",
    "from selenium.webdriver.common.by import By\n",
    "from selenium.webdriver import Chrome\n",
    "import pandas as pd"
   ]
  },
  {
   "cell_type": "markdown",
   "metadata": {},
   "source": [
    "## 標註 excel 統計"
   ]
  },
  {
   "cell_type": "code",
   "execution_count": 20,
   "metadata": {},
   "outputs": [
    {
     "name": "stdout",
     "output_type": "stream",
     "text": [
      "DA1 count_ready 71 count_annotation_error 6 count_not_ready 3\n",
      "DA2 count_ready 75 count_annotation_error 0 count_not_ready 0\n",
      "DA3 count_ready 38 count_annotation_error 0 count_not_ready 0\n",
      "DA4_新竹 count_ready 55 count_annotation_error 0 count_not_ready 11\n",
      "DA5 count_ready 2 count_annotation_error 0 count_not_ready 43\n",
      "DA6 count_ready 22 count_annotation_error 0 count_not_ready 49\n",
      "DA7_新竹 count_ready 0 count_annotation_error 0 count_not_ready 23\n",
      "內視鏡1 count_ready 145 count_annotation_error 2 count_not_ready 2\n",
      "內視鏡2 count_ready 94 count_annotation_error 3 count_not_ready 120\n",
      "內視鏡3 count_ready 54 count_annotation_error 4 count_not_ready 12\n",
      "內視鏡4 count_ready 102 count_annotation_error 0 count_not_ready 3\n",
      "內視鏡5 count_ready 26 count_annotation_error 0 count_not_ready 40\n",
      "準備下載名單: 684 ['DA2249663', 'DA2317516', 'DA2333025', 'DA2661769', 'DA2691356', 'DA3106245', 'DA3262442', 'DA3310343', 'DA3376168', 'DA3488514', 'DA3709145', 'DA3946795', 'DA3966152', 'DA4002122', 'DA4030655', 'DA4077072', 'DA4099071', 'DA4225273', 'DA4424313', 'DA4456080', 'DA4494352', 'DA4531952', 'DA5135292', 'DA5646048', 'DA5652785', 'DA5658925', 'DA5700232', 'DA5810934', 'DA6033260', 'DA6192696', 'DA6261477', 'DA6262262', 'DA6486444', 'DA6561173', 'DA6615914', 'DA6645864', 'DA6669644', 'DA6817030', 'DA6831268', 'DA6921084', 'DA6956411', 'DA7037727', 'DA7052421', 'DA7137314', 'DA7146063', 'DA7146476', 'DA7146653', 'DA7146655', 'DA7154898', 'DA7155348', 'DA7156856', 'DA7157082', 'DA7158396', 'DA7160836', 'DA7162270', 'DA7185295', 'DA2330478', 'DA2735247', 'DA3039600', 'DA3097072', 'DA3200270', 'DA3979187', 'DA5343641', 'DA6482830', 'DA6913987', 'DA8045956', 'DA3967814', 'DA6350366', 'DA6921735', 'DA7071617', 'DA7134812', 'DA587648.0', 'DA1345365.0', 'DA1968870.0', 'DA2107336.0', 'DA2265988.0', 'DA2531513.0', 'DA2593149.0', 'DA2647824.0', 'DA2723789.0', 'DA2767782.0', 'DA2767898.0', 'DA2802740.0', 'DA2839799.0', 'DA2869448.0', 'DA3164357.0', 'DA3171323.0', 'DA3288905.0', 'DAnan', 'DA3322927.0', 'DA3342389.0', 'DA3348948.0', 'DA3364459.0', 'DA3378720.0', 'DA3462733.0', 'DA3649740.0', 'DA3831397.0', 'DA3966008.0', 'DA4027063.0', 'DA4030733.0', 'DA4211367.0', 'DA4312563.0', 'DA4338479.0', 'DA4544156.0', 'DA5498440.0', 'DA5501127.0', 'DA5733304.0', 'DA6204516.0', 'DA6293446.0', 'DA6495689.0', 'DA6555772.0', 'DA6646808.0', 'DA6712626.0', 'DA6984470.0', 'DA7072992.0', 'DA7126866.0', 'DA7132229.0', 'DA7178738.0', 'DA7183874.0', 'DA7188160.0', 'DA7194223.0', 'DA7195226.0', 'DA7198477.0', 'DA7200560.0', 'DA7201219.0', 'DA7203114.0', 'DA7203201.0', 'DA7205301.0', 'DA7206449.0', 'DA7217615.0', 'DA7224365.0', 'DA1399322.0', 'DA1904805.0', 'DA3061362.0', 'DA3103103.0', 'DA3709553.0', 'DA3995873.0', 'DA4034816.0', 'DA5712487.0', 'DA5911266.0', 'DA6603941.0', 'DA7186683.0', 'DA7198770.0', 'DA7212215.0', 'DA7217159.0', 'DA7218520.0', 'DA0734774', 'DA1542715', 'DA1838244', 'DA2393080', 'DA2676627', 'DA2692431', 'DA3060507', 'DA3077035', 'DA3528741', 'DA3581526', 'DA4217660', 'DA4295498', 'DA4567341', 'DA5135897', 'DA5813259', 'DA5968962', 'DA6601421', 'DA6793515', 'DA6873356', 'DA7193881', 'DA7242767', 'DA7248972', 'DA8002918', 'DA2090556', 'DA2180329', 'DA3148521', 'DA3183809', 'DA4577438', 'DA4444928', 'DA5348381', 'DA5443435', 'DA5522185', 'DA5690479', 'DA5787736', 'DA6333006', 'DA6496662', 'DA6503932', 'DA7220945', 'DAH021428', 'DAH060943', 'DAH080016', 'DAH149071', 'DAH229120', 'DAH341850', 'DAH353157', 'DAH358134', 'DAH368471', 'DAH492514', 'DAH515740', 'DAH618780', 'DAH642292', 'DAH656194', 'DAH841479', 'DAH866322', 'DAH889610', 'DAH898731', 'DAHA30225', 'DAHA50620', 'DAHB06023', 'DAHB45345', 'DAHB76153', 'DAHC11783', 'DAHC23518', 'DAHC68978', 'DAHF00927', 'DAHG67025', 'DAHH79816', 'DAHJ19351', 'DAHJ65682', 'DAHJ94155', 'DAHJ97280', 'DAHK01250', 'DAHK04317', 'DAH381906', 'DAH394648', 'DAH415970', 'DAH576733', 'DAH681259', 'DAH799553', 'DAHA55683', 'DAHB26695', 'DAHC63058', 'DAHD69606', 'DAHD74715', 'DAHD79794', 'DAHF86267', 'DAHG75652', 'DAHH56098', 'DAHH65343', 'DAHJ77334', 'DAHJ82994', 'DAHJ88477', 'DAHJ88779', 'DA7260140', 'DA7271324', 'DA4419675', 'DA5232707', 'DA5242295', 'DA5954555', 'DA6276187', 'DA6714161', 'DA7192286', 'DA7287765', 'DA7293416', 'DA7310639', 'DA2424162', 'DA2596378', 'DA3213034', 'DA5135179', 'DA2085033', 'DA2115209', 'DA2718763', 'DA3064330', 'DA4424158', 'DA5167123', 'DA5441864', 'DA6193564', 'ES0671853', 'ES0734091', 'ES0736537', 'ES0849321', 'ES1039825', 'ES1355411', 'ES1442511', 'ES1653776', 'ES1883805', 'ES1941991', 'ES2063352', 'ES2071189', 'ES2105078', 'ES2111590', 'ES2175724', 'ES2223025', 'ES2240239', 'ES2284772', 'ES2298837', 'ES2317470', 'ES2358670', 'ES2369857', 'ES2383672', 'ES2423204', 'ES2462076', 'ES2521293', 'ES2603129', 'ES2635414', 'ES2770928', 'ES2824163', 'ES2864391', 'ES2878481', 'ES2916742', 'ES2928374', 'ES3005878', 'ES3008302', 'ES3065091', 'ES3098155', 'ES3120959', 'ES3149294', 'ES3202878', 'ES3214681', 'ES3229600', 'ES3251964', 'ES3263630', 'ES3263967', 'ES3275288', 'ES3305800', 'ES3326053', 'ES3448817', 'ES3499264', 'ES3539405', 'ES3554519', 'ES3560563', 'ES3562122', 'ES3566695', 'ES3671712', 'ES3734685', 'ES3749781', 'ES3775775', 'ES3778506', 'ES3840425', 'ES3881625', 'ES3940070', 'ES3971979', 'ES4067024', 'ES4155007', 'ES4191941', 'ES4240967', 'ES4291380', 'ES4319312', 'ES4391967', 'ES4423740', 'ES4557163', 'ES4586817', 'ES5081226', 'ES5085923', 'ES5103095', 'ES5143580', 'ES5144867', 'ES5146347', 'ES5207416', 'ES5209071', 'ES5221907', 'ES5244603', 'ES5250754', 'ES5278000', 'ES5280355', 'ES5297536', 'ES5304478', 'ES5315793', 'ES5318544', 'ES5449583', 'ES5511389', 'ES5536470', 'ES5565501', 'ES5589325', 'ES5704457', 'ES5707615', 'ES5738345', 'ES5745461', 'ES5761062', 'ES5836281', 'ES5846790', 'ES5857663', 'ES5979989', 'ES5982305', 'ES6062791', 'ES6064574', 'ES6168948', 'ES6171548', 'ES6201151', 'ES6213773', 'ES6341056', 'ES6380441', 'ES6456168', 'ES6518009', 'ES6544607', 'ES6641493', 'ES6695469', 'ES6730466', 'ES6741162', 'ES6765986', 'ES6776023', 'ES6883085', 'ES6920692', 'ES7028206', 'ES7147426', 'ES7159628', 'ES7166396', 'ES7172368', 'ES7185866', 'ES7189651', 'ES7195668', 'ES7195787', 'ES7201047', 'ES7202611', 'ES7202700', 'ES7210639', 'ES7210716', 'ES7216747', 'ES7218303', 'ES7221474', 'ES7225387', 'ES8070454', 'ES834980.0', 'ES1229504.0', 'ES1703598.0', 'ES1897091.0', 'ES1905190.0', 'ES1932743.0', 'ES1954865.0', 'ES2317602.0', 'ES2406452.0', 'ES2437285.0', 'ES2550325.0', 'ES2685699.0', 'ES2727938.0', 'ES2931641.0', 'ES3007087.0', 'ES3115337.0', 'ES3120959.0', 'ES3147850.0', 'ES3155306.0', 'ES3222696.0', 'ES3262804.0', 'ES3268325.0', 'ES3351039.0', 'ES3375447.0', 'ES3424599.0', 'ES3432100.0', 'ES3503138.0', 'ES3534863.0', 'ES3581257.0', 'ES3583143.0', 'ES3583150.0', 'ES3634981.0', 'ES3651053.0', 'ES3707915.0', 'ES3837234.0', 'ES4000868.0', 'ES4056657.0', 'ES4073992.0', 'ES4143190.0', 'ES4167585.0', 'ES4181116.0', 'ES4273569.0', 'ES4294348.0', 'ES4407181.0', 'ES4431005.0', 'ES5123350.0', 'ES5162121.0', 'ES5165736.0', 'ES5230791.0', 'ES5257772.0', 'ES5317980.0', 'ES5324432.0', 'ES5444210.0', 'ES5460339.0', 'ES5488798.0', 'ES5527018.0', 'ES5663512.0', 'ES5671236.0', 'ES5831820.0', 'ES5844983.0', 'ES5850388.0', 'ES5857086.0', 'ES5857209.0', 'ES5879129.0', 'ES6008293.0', 'ES6008561.0', 'ES6122136.0', 'ES6162310.0', 'ES6164838.0', 'ES6329401.0', 'ES6330610.0', 'ES6402101.0', 'ES6467874.0', 'ES6529004.0', 'ES6539635.0', 'ES6563446.0', 'ES6621841.0', 'ES6719045.0', 'ES6768414.0', 'ES6778140.0', 'ES7007478.0', 'ES7070626.0', 'ES7089232.0', 'ES7146306.0', 'ES7156179.0', 'ES7159293.0', 'ES7190032.0', 'ES7196963.0', 'ES7203166.0', 'ES7229302.0', 'ES7232885.0', 'ES7234629.0', 'ES7236185.0', 'ES8024437.0', 'ES1172770.0', 'ES1180751.0', 'ES1441325.0', 'ES1483928.0', 'ES1516553.0', 'ES1595496.0', 'ES1940918.0', 'ES1975170.0', 'ES2174044.0', 'ES2307053.0', 'ES2405227.0', 'ES2448464.0', 'ES2449861.0', 'ES2550101.0', 'ES2701403.0', 'ES2769383.0', 'ES2804806.0', 'ES2846725.0', 'ES3065385.0', 'ES3081422.0', 'ES3772153.0', 'ES3934488.0', 'ES4008523.0', 'ES4105525.0', 'ES4131384.0', 'ES4283252.0', 'ES4311773.0', 'ES4363735.0', 'ES4420317.0', 'ES4451270.0', 'ES4462109.0', 'ES4467641.0', 'ES4609245.0', 'ES5071017.0', 'ES5129407.0', 'ES5144769.0', 'ES5310171.0', 'ES5388073.0', 'ES5434288.0', 'ES5572591.0', 'ES5677065.0', 'ES5715476.0', 'ES5849309.0', 'ES5897683.0', 'ES6022096.0', 'ES6036855.0', 'ES6104192.0', 'ES6211541.0', 'ES6224780.0', 'ES6227372.0', 'ES6385249.0', 'ES6408284.0', 'ES6633206.0', 'ES6635561.0', 'ES1440313', 'ES1871125', 'ES1954671', 'ES2055506', 'ES2164249', 'ES2196498', 'ES2211357', 'ES2435897', 'ES2539366', 'ES2668628', 'ES2783766', 'ES2878481', 'ES2898689', 'ES2964234', 'ES2969054', 'ES3075642', 'ES3076331', 'ES3110537', 'ES3119399', 'ES3131077', 'ES3245998', 'ES3274926', 'ES3278508', 'ES3442861', 'ES3536298', 'ES3583124', 'ES3630350', 'ES3665565', 'ES3682988', 'ES3700565', 'ES3934879', 'ES3941870', 'ES3971846', 'ES4011209', 'ES4024644', 'ES4046526', 'ES4234227', 'ES4381861', 'ES5022992', 'ES5142541', 'ES5227763', 'ES5314678', 'ES5535532', 'ES5594189', 'ES5598735', 'ES5641167', 'ES5699524', 'ES5723368', 'ES5888656', 'ES5944477', 'ES6065920', 'ES6144394', 'ES6145307', 'ES6231089', 'ES6397625', 'ES6412612', 'ES6535629', 'ES6612510', 'ES6679831', 'ES6762211', 'ES6892945', 'ES7017455', 'ES7042932', 'ES7207550', 'ES7232264', 'ES7251241', 'ES7289576', 'ES7291106', 'ES7291318', 'ES7293044', 'ES7297162', 'ES7305335', 'ES7310831', 'ES7311552', 'ES8002545', 'ES8048376', 'ES3149161', 'ES3640011', 'ES4266001', 'ES4573292', 'ES6062570', 'ES6887510', 'ES7313794', 'ES1854035', 'ES2274155', 'ES3030304', 'ES3368136', 'ES3568926', 'ES4091228', 'ES4507025', 'ES5577347', 'ES5958402', 'ES6530581', 'ES6567192', 'ES7234955', 'ES7241087', 'ES7245712', 'ES7317014', 'ES8025791', 'ES3761122', 'ES6099928', 'ES7317089', 'ES1767710', 'ES2913785', 'ES3989620', 'ES6838847', 'ES7116968', 'ES7277227', 'ES7316002', 'ES8000453', 'ES3822684', 'ES3875681', 'ES6094605', 'ES6270904', 'ES6647734', 'ES7180830', 'ES7226805', 'ES7321436', 'ES2090266', 'ES2989896', 'ES3013975', 'ES3179939', 'ES3235390', 'ES3512275', 'ES5992920', 'ES6410115', 'ES7248072', 'ES7329758']\n",
      "尚未準備下載名單: 321 ['DA1014946', 'DA1741921', 'DA1914574', 'DA2055506', 'DA2148825', 'DA2215094', 'DA2287732', 'DA7089278', 'DA7117921', 'DAHJ90198', 'DAHJ91099', 'DAHJ91287', 'DAHJ94657', 'DAHJ96283', 'DAHJ97888', 'DAHK01912', 'DAH218593', 'DAH835354', 'DAHB46291', 'DAHF03127', 'DA1938917', 'DA2422207', 'DA2874904', 'DA2955026', 'DA2993937', 'DA3237798', 'DA3657562', 'DA3671913', 'DA4234770', 'DA4331895', 'DA6023428', 'DA6176313', 'DA6297554', 'DA6513939', 'DA6681309', 'DA6811279', 'DA6822552', 'DA6850008', 'DA6976029', 'DA7049149', 'DA7095367', 'DA7129428', 'DA7257977', 'DA7259750', 'DA7263063', 'DA7275067', 'DA7288133', 'DA3101093', 'DA3656693', 'DA3853341', 'DA5530663', 'DA5684206', 'DA6407122', 'DA6723041', 'DA7095864', 'DA7221874', 'DA7259207', 'DA2495860', 'DA4224904', 'DA5031277', 'DA5292550', 'DA6562571', 'DA7250535', 'DA2836087', 'DA3006024', 'DA3405553', 'DA5999668', 'DA6253065', 'DA7275493', 'DA3689531', 'DA4319767', 'DA6400520', 'DA6958412', 'DA7257297', 'DA4148031', 'DA6020511', 'DA6426166', 'DA6621595', 'DA7150535', 'DA7211090', 'DA7231870', 'DA7286934', 'DA5004846', 'DA5371103', 'DA6550984', 'DA7060189', 'DA5013737', 'DA6030197', 'DA6782705', 'DA7267831', 'DA7334095', 'DA8017343', 'DA3820708', 'DA3851723', 'DA4470670', 'DA5549186', 'DA6478222', 'DA6559438', 'DA7339679', 'DA2000138', 'DA2298837', 'DA2542384', 'DA4001494', 'DA6848123', 'DA4124874', 'DA3431803', 'DA5504751', 'DA4121169', 'DA5074359', 'DA7364375', 'DA4209739', 'DA7367054', 'DAH005595', 'DAH370386', 'DAH441599', 'DAH609985', 'DAH697387', 'DAH750389', 'DAH933261', 'DAHA48747', 'DAHF36880', 'DAHF89355', 'DAHK01935', 'DAH295994', 'DAH523357', 'DAH635228', 'DAH794271', 'DAHA94062', 'DAHB34901', 'DAHE00848', 'DAHF21052', 'DAHG26757', 'DAHJ06363', 'DAHJ81240', 'DAHK16430', 'ES1557498', 'ES5699524', 'ES6217958', 'ES6716798', 'ES1222878.0', 'ES3912018.0', 'ES4208146.0', 'ES4317924.0', 'ES6584823.0', 'ES6904068.0', 'ES7131987.0', 'ES7235884.0', 'ESnan', 'ESnan', 'ESnan', 'ESnan', 'ESnan', 'ESnan', 'ESnan', 'ESnan', 'ESnan', 'ESnan', 'ESnan', 'ESnan', 'ESnan', 'ESnan', 'ESnan', 'ESnan', 'ESnan', 'ESnan', 'ESnan', 'ESnan', 'ESnan', 'ESnan', 'ESnan', 'ESnan', 'ESnan', 'ESnan', 'ESnan', 'ESnan', 'ESnan', 'ESnan', 'ESnan', 'ESnan', 'ESnan', 'ESnan', 'ESnan', 'ESnan', 'ESnan', 'ESnan', 'ESnan', 'ESnan', 'ESnan', 'ESnan', 'ESnan', 'ESnan', 'ESnan', 'ESnan', 'ESnan', 'ESnan', 'ESnan', 'ESnan', 'ESnan', 'ESnan', 'ESnan', 'ESnan', 'ESnan', 'ESnan', 'ESnan', 'ESnan', 'ESnan', 'ESnan', 'ESnan', 'ESnan', 'ESnan', 'ESnan', 'ESnan', 'ESnan', 'ESnan', 'ESnan', 'ESnan', 'ESnan', 'ESnan', 'ESnan', 'ESnan', 'ESnan', 'ESnan', 'ESnan', 'ESnan', 'ESnan', 'ESnan', 'ESnan', 'ESnan', 'ESnan', 'ESnan', 'ESnan', 'ESnan', 'ESnan', 'ESnan', 'ESnan', 'ESnan', 'ESnan', 'ESnan', 'ESnan', 'ESnan', 'ESnan', 'ESnan', 'ESnan', 'ESnan', 'ESnan', 'ESnan', 'ESnan', 'ESnan', 'ESnan', 'ESnan', 'ESnan', 'ESnan', 'ESnan', 'ESnan', 'ESnan', 'ESnan', 'ESnan', 'ESnan', 'ESnan', 'ESnan', 'ESnan', 'ESnan', 'ES583808.0', 'ES1667793.0', 'ESnan', 'ES5095917.0', 'ES6766980.0', 'ES6802848.0', 'ES6828064.0', 'ES6963888.0', 'ES7029760.0', 'ES7080276.0', 'ES7221552.0', 'ES7249718.0', 'ES7255734.0', 'ES7257458.0', 'ES7262403.0', 'ES7278788.0', 'ES3022848', 'ES3378362', 'ES6078535', 'ES2103501', 'ES5042839', 'ES5567256', 'ES6530669', 'ES6634779', 'ES7299741', 'ES7318391', 'ES0991111', 'ES1119114', 'ES4578092', 'ES5655124', 'ES2273515', 'ES2779814', 'ES3607942', 'ES3944853', 'ES3968297', 'ES5001541', 'ES6228196', 'ES7113758', 'ES7301195', 'ES7337657', 'ES7355690', 'ES3420270', 'ES3714010', 'ES4577267', 'ES5240608', 'ES6465150', 'ES6546237', 'ES7273085', 'ES7337659', 'ES1095622', 'ES1882700', 'ES2206111', 'ES2593361', 'ES3462737', 'ES5570308', 'ES6126579', 'ES6467874', 'ES6633679', 'ES6839769']\n"
     ]
    }
   ],
   "source": [
    "file_path = \"../annotation/標註工作分配_20251022.xlsx\"\n",
    "sheets_to_process = [\"DA1\", \"DA2\", \"DA3\", \"DA4_新竹\", \"DA5\", \"DA6\", \"DA7_新竹\", \"內視鏡1\", \"內視鏡2\", \"內視鏡3\", \"內視鏡4\", \"內視鏡5\"]\n",
    "\n",
    "# 初始化名單\n",
    "ready_to_download = []  # 準備下載的 ID\n",
    "not_ready_to_download = []  # 尚未準備下載的 ID\n",
    "\n",
    "# 讀取每個指定的 sheet\n",
    "for sheet in sheets_to_process:\n",
    "    count_ready = 0\n",
    "    count_not_ready = 0\n",
    "    count_annotation_error = 0\n",
    "    df = pd.read_excel(file_path, sheet_name=sheet, dtype={\"cl_grade\": str})  # 確保 cl_grade 是字串\n",
    "    # print(sheet)\n",
    "\n",
    "    # 假設第一欄是 ID，且 \"凡雅備註\" 和 \"cl_grade\" 是關鍵欄位\n",
    "    id_column = df.columns[0]  # 取得第一欄的名稱\n",
    "    \n",
    "    for _, row in df.iterrows():\n",
    "        id_value = row[id_column]\n",
    "        annotation = str(row.get(\"完成\", \"\"))\n",
    "        # note = str(row.get(\"凡雅備註\", \"\"))\n",
    "        cl_grade = str(row.get(\"cl_grade\", \"\")).strip()\n",
    "        \n",
    "        # 檢查 ID 是否為數字型態\n",
    "        # if pd.notna(id_value) and isinstance(id_value, (int, float)):\n",
    "            # id_value = int(id_value)  # 轉為整數\n",
    "        \n",
    "        if str(id_value).isdigit() and len(str(id_value)) == 6:\n",
    "            id_value_re = \"0\" + str(int(id_value))\n",
    "        elif str(id_value).isdigit() and len(str(id_value)) == 7:\n",
    "            id_value_re = str(int(id_value))\n",
    "        else:\n",
    "            id_value_re = str(id_value)\n",
    "\n",
    "        if sheet.find(\"DA\")!=-1:\n",
    "            id_value_re = \"DA\" + id_value_re\n",
    "        elif sheet.find(\"內視鏡\")!=-1:\n",
    "            id_value_re = \"ES\" + id_value_re\n",
    "        \n",
    "\n",
    "        # 判斷條件\n",
    "        if ( annotation.find(\"V\")!=-1 or annotation.find(\"v\")!=-1 ): # and cl_grade.isdigit(): # and int(cl_grade) in range(1, 7): # note == \"計算距離沒問題\"\n",
    "            ready_to_download.append(id_value_re)\n",
    "            count_ready += 1\n",
    "        elif ( str(annotation)!=\"nan\" and annotation.find(\"V\")==-1 and annotation.find(\"v\")==-1 ): # and cl_grade.isdigit(): # and int(cl_grade) in range(1, 7): # note == \"計算距離沒問題\"\n",
    "\n",
    "            not_ready_to_download.append(id_value_re)\n",
    "            count_annotation_error += 1\n",
    "        else:\n",
    "            not_ready_to_download.append(id_value_re)\n",
    "            count_not_ready += 1\n",
    "\n",
    "    print(sheet, \"count_ready\", count_ready, \"count_annotation_error\", count_annotation_error, \"count_not_ready\", count_not_ready)\n",
    "\n",
    "# 輸出結果\n",
    "print(\"準備下載名單:\", len(ready_to_download), ready_to_download)\n",
    "print(\"尚未準備下載名單:\", len(not_ready_to_download), not_ready_to_download)\n"
   ]
  },
  {
   "cell_type": "markdown",
   "metadata": {},
   "source": [
    "## 已處理 path 統計"
   ]
  },
  {
   "cell_type": "code",
   "execution_count": 38,
   "metadata": {},
   "outputs": [
    {
     "name": "stdout",
     "output_type": "stream",
     "text": [
      "整理後的名單: 7 ['DA2249663', 'DA2317516', 'DA2333025', 'DA2661769', 'DA2691356', 'DA3106245', 'DA3262442']\n"
     ]
    }
   ],
   "source": [
    "import os\n",
    "\n",
    "# 初始化名單\n",
    "da_items = []\n",
    "\n",
    "# 瀏覽資料夾內容\n",
    "for item in os.listdir(target_dir):\n",
    "    da_items.append(str(item).replace(\".zip\", \"\"))\n",
    "\n",
    "# 輸出結果\n",
    "print(\"整理後的名單:\", len(da_items), da_items)\n"
   ]
  },
  {
   "cell_type": "code",
   "execution_count": 39,
   "metadata": {},
   "outputs": [],
   "source": [
    "for da in da_items:\n",
    "    if da not in ready_to_download :\n",
    "        print(\"不在名單內:\", da)"
   ]
  },
  {
   "cell_type": "markdown",
   "metadata": {},
   "source": [
    "## 準備下載名單"
   ]
  },
  {
   "cell_type": "code",
   "execution_count": 40,
   "metadata": {},
   "outputs": [
    {
     "name": "stdout",
     "output_type": "stream",
     "text": [
      "要下載的名單: 677 ['DA3310343', 'DA3376168', 'DA3488514', 'DA3709145', 'DA3946795', 'DA3966152', 'DA4002122', 'DA4030655', 'DA4077072', 'DA4099071', 'DA4225273', 'DA4424313', 'DA4456080', 'DA4494352', 'DA4531952', 'DA5135292', 'DA5646048', 'DA5652785', 'DA5658925', 'DA5700232', 'DA5810934', 'DA6033260', 'DA6192696', 'DA6261477', 'DA6262262', 'DA6486444', 'DA6561173', 'DA6615914', 'DA6645864', 'DA6669644', 'DA6817030', 'DA6831268', 'DA6921084', 'DA6956411', 'DA7037727', 'DA7052421', 'DA7137314', 'DA7146063', 'DA7146476', 'DA7146653', 'DA7146655', 'DA7154898', 'DA7155348', 'DA7156856', 'DA7157082', 'DA7158396', 'DA7160836', 'DA7162270', 'DA7185295', 'DA2330478', 'DA2735247', 'DA3039600', 'DA3097072', 'DA3200270', 'DA3979187', 'DA5343641', 'DA6482830', 'DA6913987', 'DA8045956', 'DA3967814', 'DA6350366', 'DA6921735', 'DA7071617', 'DA7134812', 'DA587648.0', 'DA1345365.0', 'DA1968870.0', 'DA2107336.0', 'DA2265988.0', 'DA2531513.0', 'DA2593149.0', 'DA2647824.0', 'DA2723789.0', 'DA2767782.0', 'DA2767898.0', 'DA2802740.0', 'DA2839799.0', 'DA2869448.0', 'DA3164357.0', 'DA3171323.0', 'DA3288905.0', 'DAnan', 'DA3322927.0', 'DA3342389.0', 'DA3348948.0', 'DA3364459.0', 'DA3378720.0', 'DA3462733.0', 'DA3649740.0', 'DA3831397.0', 'DA3966008.0', 'DA4027063.0', 'DA4030733.0', 'DA4211367.0', 'DA4312563.0', 'DA4338479.0', 'DA4544156.0', 'DA5498440.0', 'DA5501127.0', 'DA5733304.0', 'DA6204516.0', 'DA6293446.0', 'DA6495689.0', 'DA6555772.0', 'DA6646808.0', 'DA6712626.0', 'DA6984470.0', 'DA7072992.0', 'DA7126866.0', 'DA7132229.0', 'DA7178738.0', 'DA7183874.0', 'DA7188160.0', 'DA7194223.0', 'DA7195226.0', 'DA7198477.0', 'DA7200560.0', 'DA7201219.0', 'DA7203114.0', 'DA7203201.0', 'DA7205301.0', 'DA7206449.0', 'DA7217615.0', 'DA7224365.0', 'DA1399322.0', 'DA1904805.0', 'DA3061362.0', 'DA3103103.0', 'DA3709553.0', 'DA3995873.0', 'DA4034816.0', 'DA5712487.0', 'DA5911266.0', 'DA6603941.0', 'DA7186683.0', 'DA7198770.0', 'DA7212215.0', 'DA7217159.0', 'DA7218520.0', 'DA0734774', 'DA1542715', 'DA1838244', 'DA2393080', 'DA2676627', 'DA2692431', 'DA3060507', 'DA3077035', 'DA3528741', 'DA3581526', 'DA4217660', 'DA4295498', 'DA4567341', 'DA5135897', 'DA5813259', 'DA5968962', 'DA6601421', 'DA6793515', 'DA6873356', 'DA7193881', 'DA7242767', 'DA7248972', 'DA8002918', 'DA2090556', 'DA2180329', 'DA3148521', 'DA3183809', 'DA4577438', 'DA4444928', 'DA5348381', 'DA5443435', 'DA5522185', 'DA5690479', 'DA5787736', 'DA6333006', 'DA6496662', 'DA6503932', 'DA7220945', 'DAH021428', 'DAH060943', 'DAH080016', 'DAH149071', 'DAH229120', 'DAH341850', 'DAH353157', 'DAH358134', 'DAH368471', 'DAH492514', 'DAH515740', 'DAH618780', 'DAH642292', 'DAH656194', 'DAH841479', 'DAH866322', 'DAH889610', 'DAH898731', 'DAHA30225', 'DAHA50620', 'DAHB06023', 'DAHB45345', 'DAHB76153', 'DAHC11783', 'DAHC23518', 'DAHC68978', 'DAHF00927', 'DAHG67025', 'DAHH79816', 'DAHJ19351', 'DAHJ65682', 'DAHJ94155', 'DAHJ97280', 'DAHK01250', 'DAHK04317', 'DAH381906', 'DAH394648', 'DAH415970', 'DAH576733', 'DAH681259', 'DAH799553', 'DAHA55683', 'DAHB26695', 'DAHC63058', 'DAHD69606', 'DAHD74715', 'DAHD79794', 'DAHF86267', 'DAHG75652', 'DAHH56098', 'DAHH65343', 'DAHJ77334', 'DAHJ82994', 'DAHJ88477', 'DAHJ88779', 'DA7260140', 'DA7271324', 'DA4419675', 'DA5232707', 'DA5242295', 'DA5954555', 'DA6276187', 'DA6714161', 'DA7192286', 'DA7287765', 'DA7293416', 'DA7310639', 'DA2424162', 'DA2596378', 'DA3213034', 'DA5135179', 'DA2085033', 'DA2115209', 'DA2718763', 'DA3064330', 'DA4424158', 'DA5167123', 'DA5441864', 'DA6193564', 'ES0671853', 'ES0734091', 'ES0736537', 'ES0849321', 'ES1039825', 'ES1355411', 'ES1442511', 'ES1653776', 'ES1883805', 'ES1941991', 'ES2063352', 'ES2071189', 'ES2105078', 'ES2111590', 'ES2175724', 'ES2223025', 'ES2240239', 'ES2284772', 'ES2298837', 'ES2317470', 'ES2358670', 'ES2369857', 'ES2383672', 'ES2423204', 'ES2462076', 'ES2521293', 'ES2603129', 'ES2635414', 'ES2770928', 'ES2824163', 'ES2864391', 'ES2878481', 'ES2916742', 'ES2928374', 'ES3005878', 'ES3008302', 'ES3065091', 'ES3098155', 'ES3120959', 'ES3149294', 'ES3202878', 'ES3214681', 'ES3229600', 'ES3251964', 'ES3263630', 'ES3263967', 'ES3275288', 'ES3305800', 'ES3326053', 'ES3448817', 'ES3499264', 'ES3539405', 'ES3554519', 'ES3560563', 'ES3562122', 'ES3566695', 'ES3671712', 'ES3734685', 'ES3749781', 'ES3775775', 'ES3778506', 'ES3840425', 'ES3881625', 'ES3940070', 'ES3971979', 'ES4067024', 'ES4155007', 'ES4191941', 'ES4240967', 'ES4291380', 'ES4319312', 'ES4391967', 'ES4423740', 'ES4557163', 'ES4586817', 'ES5081226', 'ES5085923', 'ES5103095', 'ES5143580', 'ES5144867', 'ES5146347', 'ES5207416', 'ES5209071', 'ES5221907', 'ES5244603', 'ES5250754', 'ES5278000', 'ES5280355', 'ES5297536', 'ES5304478', 'ES5315793', 'ES5318544', 'ES5449583', 'ES5511389', 'ES5536470', 'ES5565501', 'ES5589325', 'ES5704457', 'ES5707615', 'ES5738345', 'ES5745461', 'ES5761062', 'ES5836281', 'ES5846790', 'ES5857663', 'ES5979989', 'ES5982305', 'ES6062791', 'ES6064574', 'ES6168948', 'ES6171548', 'ES6201151', 'ES6213773', 'ES6341056', 'ES6380441', 'ES6456168', 'ES6518009', 'ES6544607', 'ES6641493', 'ES6695469', 'ES6730466', 'ES6741162', 'ES6765986', 'ES6776023', 'ES6883085', 'ES6920692', 'ES7028206', 'ES7147426', 'ES7159628', 'ES7166396', 'ES7172368', 'ES7185866', 'ES7189651', 'ES7195668', 'ES7195787', 'ES7201047', 'ES7202611', 'ES7202700', 'ES7210639', 'ES7210716', 'ES7216747', 'ES7218303', 'ES7221474', 'ES7225387', 'ES8070454', 'ES834980.0', 'ES1229504.0', 'ES1703598.0', 'ES1897091.0', 'ES1905190.0', 'ES1932743.0', 'ES1954865.0', 'ES2317602.0', 'ES2406452.0', 'ES2437285.0', 'ES2550325.0', 'ES2685699.0', 'ES2727938.0', 'ES2931641.0', 'ES3007087.0', 'ES3115337.0', 'ES3120959.0', 'ES3147850.0', 'ES3155306.0', 'ES3222696.0', 'ES3262804.0', 'ES3268325.0', 'ES3351039.0', 'ES3375447.0', 'ES3424599.0', 'ES3432100.0', 'ES3503138.0', 'ES3534863.0', 'ES3581257.0', 'ES3583143.0', 'ES3583150.0', 'ES3634981.0', 'ES3651053.0', 'ES3707915.0', 'ES3837234.0', 'ES4000868.0', 'ES4056657.0', 'ES4073992.0', 'ES4143190.0', 'ES4167585.0', 'ES4181116.0', 'ES4273569.0', 'ES4294348.0', 'ES4407181.0', 'ES4431005.0', 'ES5123350.0', 'ES5162121.0', 'ES5165736.0', 'ES5230791.0', 'ES5257772.0', 'ES5317980.0', 'ES5324432.0', 'ES5444210.0', 'ES5460339.0', 'ES5488798.0', 'ES5527018.0', 'ES5663512.0', 'ES5671236.0', 'ES5831820.0', 'ES5844983.0', 'ES5850388.0', 'ES5857086.0', 'ES5857209.0', 'ES5879129.0', 'ES6008293.0', 'ES6008561.0', 'ES6122136.0', 'ES6162310.0', 'ES6164838.0', 'ES6329401.0', 'ES6330610.0', 'ES6402101.0', 'ES6467874.0', 'ES6529004.0', 'ES6539635.0', 'ES6563446.0', 'ES6621841.0', 'ES6719045.0', 'ES6768414.0', 'ES6778140.0', 'ES7007478.0', 'ES7070626.0', 'ES7089232.0', 'ES7146306.0', 'ES7156179.0', 'ES7159293.0', 'ES7190032.0', 'ES7196963.0', 'ES7203166.0', 'ES7229302.0', 'ES7232885.0', 'ES7234629.0', 'ES7236185.0', 'ES8024437.0', 'ES1172770.0', 'ES1180751.0', 'ES1441325.0', 'ES1483928.0', 'ES1516553.0', 'ES1595496.0', 'ES1940918.0', 'ES1975170.0', 'ES2174044.0', 'ES2307053.0', 'ES2405227.0', 'ES2448464.0', 'ES2449861.0', 'ES2550101.0', 'ES2701403.0', 'ES2769383.0', 'ES2804806.0', 'ES2846725.0', 'ES3065385.0', 'ES3081422.0', 'ES3772153.0', 'ES3934488.0', 'ES4008523.0', 'ES4105525.0', 'ES4131384.0', 'ES4283252.0', 'ES4311773.0', 'ES4363735.0', 'ES4420317.0', 'ES4451270.0', 'ES4462109.0', 'ES4467641.0', 'ES4609245.0', 'ES5071017.0', 'ES5129407.0', 'ES5144769.0', 'ES5310171.0', 'ES5388073.0', 'ES5434288.0', 'ES5572591.0', 'ES5677065.0', 'ES5715476.0', 'ES5849309.0', 'ES5897683.0', 'ES6022096.0', 'ES6036855.0', 'ES6104192.0', 'ES6211541.0', 'ES6224780.0', 'ES6227372.0', 'ES6385249.0', 'ES6408284.0', 'ES6633206.0', 'ES6635561.0', 'ES1440313', 'ES1871125', 'ES1954671', 'ES2055506', 'ES2164249', 'ES2196498', 'ES2211357', 'ES2435897', 'ES2539366', 'ES2668628', 'ES2783766', 'ES2878481', 'ES2898689', 'ES2964234', 'ES2969054', 'ES3075642', 'ES3076331', 'ES3110537', 'ES3119399', 'ES3131077', 'ES3245998', 'ES3274926', 'ES3278508', 'ES3442861', 'ES3536298', 'ES3583124', 'ES3630350', 'ES3665565', 'ES3682988', 'ES3700565', 'ES3934879', 'ES3941870', 'ES3971846', 'ES4011209', 'ES4024644', 'ES4046526', 'ES4234227', 'ES4381861', 'ES5022992', 'ES5142541', 'ES5227763', 'ES5314678', 'ES5535532', 'ES5594189', 'ES5598735', 'ES5641167', 'ES5699524', 'ES5723368', 'ES5888656', 'ES5944477', 'ES6065920', 'ES6144394', 'ES6145307', 'ES6231089', 'ES6397625', 'ES6412612', 'ES6535629', 'ES6612510', 'ES6679831', 'ES6762211', 'ES6892945', 'ES7017455', 'ES7042932', 'ES7207550', 'ES7232264', 'ES7251241', 'ES7289576', 'ES7291106', 'ES7291318', 'ES7293044', 'ES7297162', 'ES7305335', 'ES7310831', 'ES7311552', 'ES8002545', 'ES8048376', 'ES3149161', 'ES3640011', 'ES4266001', 'ES4573292', 'ES6062570', 'ES6887510', 'ES7313794', 'ES1854035', 'ES2274155', 'ES3030304', 'ES3368136', 'ES3568926', 'ES4091228', 'ES4507025', 'ES5577347', 'ES5958402', 'ES6530581', 'ES6567192', 'ES7234955', 'ES7241087', 'ES7245712', 'ES7317014', 'ES8025791', 'ES3761122', 'ES6099928', 'ES7317089', 'ES1767710', 'ES2913785', 'ES3989620', 'ES6838847', 'ES7116968', 'ES7277227', 'ES7316002', 'ES8000453', 'ES3822684', 'ES3875681', 'ES6094605', 'ES6270904', 'ES6647734', 'ES7180830', 'ES7226805', 'ES7321436', 'ES2090266', 'ES2989896', 'ES3013975', 'ES3179939', 'ES3235390', 'ES3512275', 'ES5992920', 'ES6410115', 'ES7248072', 'ES7329758']\n"
     ]
    }
   ],
   "source": [
    "# 使用集合運算去除重複項\n",
    "filtered_list = list(set(ready_to_download) - set(da_items))\n",
    "\n",
    "# 保持原本的順序\n",
    "filtered_list = [item for item in ready_to_download if item not in set(da_items)]\n",
    "print(\"要下載的名單:\", len(filtered_list), filtered_list)\n"
   ]
  },
  {
   "cell_type": "markdown",
   "metadata": {},
   "source": [
    "## 下載 "
   ]
  },
  {
   "cell_type": "code",
   "execution_count": null,
   "metadata": {},
   "outputs": [],
   "source": [
    "chrome_options = Options()\n",
    "if headless:\n",
    "    chrome_options.add_argument('--headless')\n",
    "driver = Chrome(options=chrome_options)"
   ]
  },
  {
   "cell_type": "code",
   "execution_count": null,
   "metadata": {},
   "outputs": [],
   "source": [
    "download_dir = \"C:\\\\Users\\\\user\\\\Downloads\"  # 請改成實際下載資料夾\n",
    "timeout = 120  # 最多等待 120 秒"
   ]
  },
  {
   "cell_type": "code",
   "execution_count": null,
   "metadata": {},
   "outputs": [
    {
     "name": "stderr",
     "output_type": "stream",
     "text": [
      "Downloading datasets:   2%|▏         | 1/50 [02:12<1:48:09, 132.44s/it]\n"
     ]
    },
    {
     "ename": "KeyboardInterrupt",
     "evalue": "",
     "output_type": "error",
     "traceback": [
      "\u001b[1;31m---------------------------------------------------------------------------\u001b[0m",
      "\u001b[1;31mKeyboardInterrupt\u001b[0m                         Traceback (most recent call last)",
      "Cell \u001b[1;32mIn[50], line 56\u001b[0m\n\u001b[0;32m     54\u001b[0m     \u001b[38;5;28;01mexcept\u001b[39;00m:\n\u001b[0;32m     55\u001b[0m         try_export_button \u001b[38;5;241m=\u001b[39m \u001b[38;5;28;01mTrue\u001b[39;00m\n\u001b[1;32m---> 56\u001b[0m time\u001b[38;5;241m.\u001b[39msleep(\u001b[38;5;241m10\u001b[39m)\n\u001b[0;32m     58\u001b[0m try_export_dataset_button \u001b[38;5;241m=\u001b[39m \u001b[38;5;28;01mTrue\u001b[39;00m\n\u001b[0;32m     59\u001b[0m \u001b[38;5;28;01mwhile\u001b[39;00m try_export_dataset_button:\n",
      "\u001b[1;31mKeyboardInterrupt\u001b[0m: "
     ]
    }
   ],
   "source": [
    "for patient_ID in tqdm(filtered_list[:50], desc=\"Downloading datasets\"):\n",
    "\n",
    "    ## login\n",
    "    driver.get('https://aiailab.synology.me/projects')\n",
    "    try_login = True\n",
    "    stop_time = 10\n",
    "    stop_time_count = 0\n",
    "    while try_login:\n",
    "        try:\n",
    "            driver.find_element(By.XPATH, '//*[@id=\"credential\"]').send_keys(credential)\n",
    "            try_login = False\n",
    "        except:\n",
    "            try_login = True\n",
    "            stop_time_count += 1\n",
    "            if stop_time_count >= stop_time:\n",
    "                try_login = False\n",
    "    if stop_time_count < stop_time:\n",
    "        driver.find_element(By.XPATH, '//*[@id=\"password\"]').send_keys(password)\n",
    "        driver.find_element(By.XPATH, '//*[@id=\"root\"]/section/section/main/div/div[2]/div/div/div/form/div[3]/div/div/div/button').click()\n",
    "\n",
    "\n",
    "    ## find patient ID\n",
    "    try_search = True\n",
    "    while try_search:\n",
    "        try:\n",
    "            driver.find_element(By.XPATH, '//*[@id=\"root\"]/section/main/div/div[1]/div/div[1]/span/span/input').send_keys(patient_ID)\n",
    "            try_search = False\n",
    "        except:\n",
    "            try_search = True\n",
    "\n",
    "    try_click = True\n",
    "    while try_click:\n",
    "        try:\n",
    "            driver.find_element(By.XPATH, '//*[@id=\"root\"]/section/main/div/div[1]/div/div[1]/span/span/span/button').click()\n",
    "            try_click = False\n",
    "        except:\n",
    "            try_click = True\n",
    "\n",
    "    ## Export dataset\n",
    "    try_point_button = True\n",
    "    while try_point_button:\n",
    "        try:\n",
    "            driver.find_element(By.XPATH, '//*[@id=\"root\"]/section/main/div/div[2]/div/div/div[1]/div[2]/div/div/div[2]/div/div[2]/button').click()\n",
    "            try_point_button = False\n",
    "        except:\n",
    "            try_point_button = True\n",
    "\n",
    "    try_export_button = True\n",
    "    while try_export_button:\n",
    "        try:\n",
    "            driver.find_element(By.XPATH, '/html/body/div[3]/div/div/ul/li[1]/span').click()\n",
    "            try_export_button = False\n",
    "        except:\n",
    "            try_export_button = True\n",
    "    \n",
    "    try_export_dataset_button = True\n",
    "    while try_export_dataset_button:\n",
    "        try:\n",
    "            driver.find_element(By.XPATH, '//*[@id=\"Export dataset\"]/div[1]/div[2]/div/div/div').click()\n",
    "            try_export_dataset_button = False\n",
    "        except:\n",
    "            try_export_dataset_button = True\n",
    "\n",
    "    \n",
    "    try_select_button = True\n",
    "    while try_select_button:\n",
    "        try:\n",
    "            if process_type[:4] == \"yolo\":\n",
    "                driver.find_element(By.XPATH, '/html/body/div[5]/div/div/div/div[2]/div/div/div/div[24]').click()\n",
    "            elif process_type == \"cvat_for_video\":\n",
    "                driver.find_element(By.XPATH, '/html/body/div[5]/div/div/div/div[2]/div/div/div/div[6]/div').click()\n",
    "            try_select_button = False\n",
    "        except:\n",
    "            try_select_button = True\n",
    "\n",
    "    ## save images\n",
    "    if save_img == True:\n",
    "        driver.find_element(By.XPATH, '//*[@id=\"Export dataset_saveImages\"]').click()\n",
    "\n",
    "    ## dataset name\n",
    "    driver.find_element(By.XPATH, '//*[@id=\"Export dataset_customName\"]').send_keys(patient_ID)\n",
    "\n",
    "    ## OK\n",
    "    driver.find_element(By.XPATH, '/html/body/div[4]/div/div[2]/div/div[2]/div[3]/button[2]').click()\n",
    "\n",
    "    expected_filename = f\"{patient_ID}.zip\"\n",
    "    downloaded = False\n",
    "    start_time = time.time()\n",
    "    \n",
    "    while not downloaded and time.time() - start_time < timeout:\n",
    "        for filename in os.listdir(download_dir):\n",
    "            if filename.endswith(\".zip\") and expected_filename in filename:\n",
    "                source_path = os.path.join(download_dir, filename)\n",
    "                dest_path = os.path.join(target_dir, filename)\n",
    "\n",
    "                # 移動檔案\n",
    "                shutil.move(source_path, dest_path)\n",
    "                # print(f\"已移動: {filename} 至 {target_dir}\")\n",
    "                downloaded = True\n",
    "                break\n",
    "        if not downloaded:\n",
    "            time.sleep(2)  # 每 2 秒檢查一次\n",
    "\n",
    "    if not downloaded:\n",
    "        print(f\"[警告] 等待 {timeout} 秒後仍未找到檔案 {expected_filename}，跳過此 ID。\")\n"
   ]
  },
  {
   "cell_type": "code",
   "execution_count": null,
   "metadata": {},
   "outputs": [],
   "source": []
  }
 ],
 "metadata": {
  "kernelspec": {
   "display_name": "ultrasound",
   "language": "python",
   "name": "python3"
  },
  "language_info": {
   "codemirror_mode": {
    "name": "ipython",
    "version": 3
   },
   "file_extension": ".py",
   "mimetype": "text/x-python",
   "name": "python",
   "nbconvert_exporter": "python",
   "pygments_lexer": "ipython3",
   "version": "3.11.9"
  }
 },
 "nbformat": 4,
 "nbformat_minor": 2
}
